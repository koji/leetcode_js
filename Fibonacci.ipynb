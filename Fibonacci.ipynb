{
 "cells": [
  {
   "cell_type": "code",
   "execution_count": 1,
   "metadata": {},
   "outputs": [],
   "source": [
    "const fibonacci = (n) => {\n",
    "  if(n <= 1) {\n",
    "    return n\n",
    "  }\n",
    "  return  fibonacci(n-2) + fibonacci(n-1)\n",
    "}"
   ]
  },
  {
   "cell_type": "code",
   "execution_count": 10,
   "metadata": {},
   "outputs": [
    {
     "name": "stdout",
     "output_type": "stream",
     "text": [
      "12586269025\n"
     ]
    }
   ],
   "source": [
    "console.log(fibonacci(50))"
   ]
  },
  {
   "cell_type": "code",
   "execution_count": 5,
   "metadata": {},
   "outputs": [],
   "source": [
    "const fibonacciLoop = (n) => {\n",
    "  if (n <= 1) {\n",
    "    return n\n",
    "  }\n",
    "  let a = 0\n",
    "  let b = 1\n",
    "  let tmp\n",
    "  for(let i=2; i<=n; i++) {\n",
    "    tmp = a + b\n",
    "    a = b\n",
    "    b = tmp\n",
    "  }\n",
    "  return b\n",
    "}\n"
   ]
  },
  {
   "cell_type": "code",
   "execution_count": 11,
   "metadata": {},
   "outputs": [
    {
     "name": "stdout",
     "output_type": "stream",
     "text": [
      "12586269025\n"
     ]
    }
   ],
   "source": [
    "console.log(fibonacciLoop(50))\n"
   ]
  },
  {
   "cell_type": "code",
   "execution_count": 7,
   "metadata": {},
   "outputs": [],
   "source": [
    "const fibonacciMemo = (n, memo={}) => {\n",
    "  if(n in memo) {\n",
    "    return memo[n]\n",
    "  }\n",
    "  if(n<=1) {\n",
    "    return n\n",
    "  }\n",
    "  memo[n] = fibonacciMemo(n - 2, memo) + fibonacciMemo(n-1, memo)\n",
    "  return memo[n]\n",
    "}"
   ]
  },
  {
   "cell_type": "code",
   "execution_count": 12,
   "metadata": {},
   "outputs": [
    {
     "name": "stdout",
     "output_type": "stream",
     "text": [
      "12586269025\n"
     ]
    }
   ],
   "source": [
    "console.log(fibonacciMemo(50))"
   ]
  },
  {
   "cell_type": "code",
   "execution_count": null,
   "metadata": {},
   "outputs": [],
   "source": []
  }
 ],
 "metadata": {
  "kernelspec": {
   "display_name": "Deno",
   "language": "typescript",
   "name": "deno"
  },
  "language_info": {
   "codemirror_mode": "typescript",
   "file_extension": ".ts",
   "mimetype": "text/x.typescript",
   "name": "typescript",
   "nbconvert_exporter": "script",
   "pygments_lexer": "typescript",
   "version": "5.7.3"
  }
 },
 "nbformat": 4,
 "nbformat_minor": 2
}
