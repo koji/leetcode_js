{
 "cells": [
  {
   "cell_type": "markdown",
   "id": "176f85af-d45a-42b1-9701-623052e23ee3",
   "metadata": {},
   "source": [
    "```\n",
    "Given an array of integers nums and an integer target, return indices of the two numbers such that they add up to target.\n",
    "\n",
    "You may assume that each input would have exactly one solution, and you may not use the same element twice.\n",
    "\n",
    "You can return the answer in any order.\n",
    "\n",
    " \n",
    "\n",
    "Example 1:\n",
    "\n",
    "Input: nums = [2,7,11,15], target = 9\n",
    "Output: [0,1]\n",
    "Explanation: Because nums[0] + nums[1] == 9, we return [0, 1].\n",
    "Example 2:\n",
    "\n",
    "Input: nums = [3,2,4], target = 6\n",
    "Output: [1,2]\n",
    "Example 3:\n",
    "\n",
    "Input: nums = [3,3], target = 6\n",
    "Output: [0,1]\n",
    " \n",
    "\n",
    "Constraints:\n",
    "\n",
    "2 <= nums.length <= 104\n",
    "-109 <= nums[i] <= 109\n",
    "-109 <= target <= 109\n",
    "Only one valid answer exists.\n",
    " \n",
    "\n",
    "Follow-up: Can you come up with an algorithm that is less than O(n2) time complexity?\n",
    "```"
   ]
  },
  {
   "cell_type": "code",
   "execution_count": 1,
   "id": "d670c0ec-e4fa-47a3-9973-b548b7282391",
   "metadata": {},
   "outputs": [],
   "source": [
    "const twoSum= (nums, target) => {\n",
    "    const numIndexMap = new Map();\n",
    "    for(let currentIndex=0; currentIndex < nums.length; currentIndex++) {\n",
    "        const numberNeeded = target - nums[currentIndex]\n",
    "\n",
    "        if(numIndexMap.has(numberNeeded)) {\n",
    "            return [numIndexMap.get(numberNeeded), currentIndex]\n",
    "        }\n",
    "        numIndexMap.set(nums[currentIndex], currentIndex)\n",
    "    }\n",
    "    return []\n",
    "}"
   ]
  },
  {
   "cell_type": "code",
   "execution_count": 3,
   "id": "97ea200d-1ff9-47dc-808e-13e5f7ddc945",
   "metadata": {},
   "outputs": [
    {
     "name": "stdout",
     "output_type": "stream",
     "text": [
      "[ \u001b[33m0\u001b[39m, \u001b[33m1\u001b[39m ]\n"
     ]
    }
   ],
   "source": [
    "const nums = [2,7,11,15]\n",
    "const target = 9\n",
    "console.log(twoSum(nums, target))"
   ]
  },
  {
   "cell_type": "code",
   "execution_count": 4,
   "id": "02873528-d4fe-443b-9002-97e9ad14b234",
   "metadata": {},
   "outputs": [
    {
     "name": "stdout",
     "output_type": "stream",
     "text": [
      "[ \u001b[33m1\u001b[39m, \u001b[33m2\u001b[39m ]\n"
     ]
    }
   ],
   "source": [
    "const nums = [3,2,4]\n",
    "const target = 6\n",
    "console.log(twoSum(nums, target))"
   ]
  },
  {
   "cell_type": "code",
   "execution_count": 5,
   "id": "63dba222-f4ed-46ab-bcb4-0347c1fc0811",
   "metadata": {},
   "outputs": [
    {
     "name": "stdout",
     "output_type": "stream",
     "text": [
      "[ \u001b[33m0\u001b[39m, \u001b[33m1\u001b[39m ]\n"
     ]
    }
   ],
   "source": [
    "const nums = [3,3]\n",
    "const target = 6\n",
    "console.log(twoSum(nums, target))"
   ]
  },
  {
   "cell_type": "code",
   "execution_count": null,
   "id": "44f32123-233c-4761-84c9-2e485e92053f",
   "metadata": {},
   "outputs": [],
   "source": []
  }
 ],
 "metadata": {
  "kernelspec": {
   "display_name": "Deno",
   "language": "typescript",
   "name": "deno"
  },
  "language_info": {
   "codemirror_mode": "typescript",
   "file_extension": ".ts",
   "mimetype": "text/x.typescript",
   "name": "typescript",
   "nbconvert_exporter": "script",
   "pygments_lexer": "typescript",
   "version": "5.7.3"
  }
 },
 "nbformat": 4,
 "nbformat_minor": 5
}
