{
 "cells": [
  {
   "cell_type": "markdown",
   "metadata": {},
   "source": [
    "```\n",
    "You are given a large integer represented as an integer array digits, where each digits[i] is the ith digit of the integer. The digits are ordered from most significant to least significant in left-to-right order. The large integer does not contain any leading 0's.\n",
    "\n",
    "Increment the large integer by one and return the resulting array of digits.\n",
    "\n",
    " \n",
    "\n",
    "Example 1:\n",
    "\n",
    "Input: digits = [1,2,3]\n",
    "Output: [1,2,4]\n",
    "Explanation: The array represents the integer 123.\n",
    "Incrementing by one gives 123 + 1 = 124.\n",
    "Thus, the result should be [1,2,4].\n",
    "Example 2:\n",
    "\n",
    "Input: digits = [4,3,2,1]\n",
    "Output: [4,3,2,2]\n",
    "Explanation: The array represents the integer 4321.\n",
    "Incrementing by one gives 4321 + 1 = 4322.\n",
    "Thus, the result should be [4,3,2,2].\n",
    "Example 3:\n",
    "\n",
    "Input: digits = [9]\n",
    "Output: [1,0]\n",
    "Explanation: The array represents the integer 9.\n",
    "Incrementing by one gives 9 + 1 = 10.\n",
    "Thus, the result should be [1,0].\n",
    " \n",
    "\n",
    "Constraints:\n",
    "\n",
    "1 <= digits.length <= 100\n",
    "0 <= digits[i] <= 9\n",
    "digits does not contain any leading 0's.\n",
    "```"
   ]
  },
  {
   "cell_type": "code",
   "execution_count": 1,
   "metadata": {},
   "outputs": [],
   "source": [
    "const plusOne = (digits) => {\n",
    "      const len = digits.length\n",
    "\n",
    "    for(let i=len-1; i>=0; i-- ) {\n",
    "        digits[i]++\n",
    "\n",
    "        if(digits[i] > 9) {\n",
    "            digits[i] = 0\n",
    "        } else {\n",
    "            return digits\n",
    "        }\n",
    "    }\n",
    "    return [1, ...digits]\n",
    "}"
   ]
  },
  {
   "cell_type": "code",
   "execution_count": 4,
   "metadata": {},
   "outputs": [
    {
     "name": "stdout",
     "output_type": "stream",
     "text": [
      "[ 1, 2, 4 ]\n",
      "[ 4, 3, 2, 2 ]\n",
      "[ 1, 0 ]\n",
      "[ 1, 0, 0, 0 ]\n"
     ]
    }
   ],
   "source": [
    "const test1 = [1,2,3]\n",
    "const test2 = [4,3,2,1]\n",
    "const test3 = [9]\n",
    "const test4 = [9,9,9]\n",
    "console.log(plusOne(test1))\n",
    "console.log(plusOne(test2))\n",
    "console.log(plusOne(test3))\n",
    "console.log(plusOne(test4))"
   ]
  },
  {
   "cell_type": "code",
   "execution_count": null,
   "metadata": {},
   "outputs": [],
   "source": []
  }
 ],
 "metadata": {
  "kernelspec": {
   "display_name": "Deno",
   "language": "typescript",
   "name": "deno"
  },
  "language_info": {
   "codemirror_mode": "typescript",
   "file_extension": ".ts",
   "mimetype": "text/x.typescript",
   "name": "typescript",
   "nbconvert_exporter": "script",
   "pygments_lexer": "typescript",
   "version": "5.7.3"
  }
 },
 "nbformat": 4,
 "nbformat_minor": 2
}
