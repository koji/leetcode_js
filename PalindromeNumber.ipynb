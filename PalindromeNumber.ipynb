{
 "cells": [
  {
   "cell_type": "markdown",
   "id": "12c4e0e9-583c-4677-994f-4415d66e4bfa",
   "metadata": {},
   "source": [
    "```\n",
    "Given an integer x, return true if x is a palindrome, and false otherwise.\n",
    "\n",
    " \n",
    "\n",
    "Example 1:\n",
    "\n",
    "Input: x = 121\n",
    "Output: true\n",
    "Explanation: 121 reads as 121 from left to right and from right to left.\n",
    "Example 2:\n",
    "\n",
    "Input: x = -121\n",
    "Output: false\n",
    "Explanation: From left to right, it reads -121. From right to left, it becomes 121-. Therefore it is not a palindrome.\n",
    "Example 3:\n",
    "\n",
    "Input: x = 10\n",
    "Output: false\n",
    "Explanation: Reads 01 from right to left. Therefore it is not a palindrome.\n",
    " \n",
    "\n",
    "Constraints:\n",
    "\n",
    "-231 <= x <= 231 - 1\n",
    "```"
   ]
  },
  {
   "cell_type": "code",
   "execution_count": 20,
   "id": "469725e4-73fa-4a29-8803-c561e3cf1ac3",
   "metadata": {},
   "outputs": [],
   "source": [
    "const isPalindrome = (x) => {\n",
    "    if(x <0 || (x%10 ===0 && x !==0)) return false\n",
    "    const str = x.toString()\n",
    "    const reversedStr  = str.split('').reverse().join('')\n",
    "    return str === reversedStr \n",
    "};"
   ]
  },
  {
   "cell_type": "code",
   "execution_count": 21,
   "id": "acf6ecee-46c8-4d04-b1e4-e9d269c8d183",
   "metadata": {},
   "outputs": [
    {
     "name": "stdout",
     "output_type": "stream",
     "text": [
      "\u001b[33mfalse\u001b[39m\n"
     ]
    }
   ],
   "source": [
    "console.log(isPalindrome(10))"
   ]
  },
  {
   "cell_type": "code",
   "execution_count": 22,
   "id": "89a28f0e-f84d-4bfc-a67f-b742d559009e",
   "metadata": {},
   "outputs": [
    {
     "name": "stdout",
     "output_type": "stream",
     "text": [
      "\u001b[33mtrue\u001b[39m\n"
     ]
    }
   ],
   "source": [
    "console.log(isPalindrome(13431))"
   ]
  },
  {
   "cell_type": "code",
   "execution_count": 23,
   "id": "98a9c988-1fa8-4c58-ba7e-7b5dfab9b599",
   "metadata": {},
   "outputs": [
    {
     "name": "stdout",
     "output_type": "stream",
     "text": [
      "\u001b[33mfalse\u001b[39m\n"
     ]
    }
   ],
   "source": [
    "console.log(isPalindrome(21))"
   ]
  },
  {
   "cell_type": "code",
   "execution_count": 2,
   "id": "654db58d-5506-4fcc-ab51-8f4f50e84d7e",
   "metadata": {},
   "outputs": [],
   "source": [
    "const isPalindromeWithoutString = (x) => {\n",
    "    if(x <0 || (x%10 ===0 && x !==0)) return false\n",
    "\n",
    "    let reversedHalf = 0\n",
    "    while(x > reversedHalf) {\n",
    "        reversedHalf = reversedHalf * 10 + x % 10\n",
    "        x = Math.floor(x/10)\n",
    "    }\n",
    "\n",
    "    return x === reversedHalf || x === Math.floor(reversedHalf/10)\n",
    "   \n",
    "};\n"
   ]
  },
  {
   "cell_type": "code",
   "execution_count": 25,
   "id": "39dd3803-9d20-4f52-9a2f-c4568b9424f2",
   "metadata": {},
   "outputs": [
    {
     "name": "stdout",
     "output_type": "stream",
     "text": [
      "\u001b[33mfalse\u001b[39m\n"
     ]
    }
   ],
   "source": [
    "console.log(isPalindromeWithoutString(10))"
   ]
  },
  {
   "cell_type": "code",
   "execution_count": 26,
   "id": "1ddbb4ea-34f9-49b9-aed3-c987c56f44ad",
   "metadata": {},
   "outputs": [
    {
     "name": "stdout",
     "output_type": "stream",
     "text": [
      "\u001b[33mtrue\u001b[39m\n"
     ]
    }
   ],
   "source": [
    "console.log(isPalindromeWithoutString(121))"
   ]
  },
  {
   "cell_type": "code",
   "execution_count": 27,
   "id": "42c5b74a-ef9a-4cf0-b4ff-adbb4b6219c4",
   "metadata": {},
   "outputs": [
    {
     "name": "stdout",
     "output_type": "stream",
     "text": [
      "\u001b[33mfalse\u001b[39m\n"
     ]
    }
   ],
   "source": [
    "console.log(isPalindromeWithoutString(21))"
   ]
  },
  {
   "cell_type": "code",
   "execution_count": 3,
   "id": "395e935a-25de-40b6-879c-3c50e7c4a83c",
   "metadata": {},
   "outputs": [
    {
     "name": "stdout",
     "output_type": "stream",
     "text": [
      "true\n"
     ]
    }
   ],
   "source": [
    "console.log(isPalindromeWithoutString(12321))\n"
   ]
  },
  {
   "cell_type": "code",
   "execution_count": null,
   "id": "daae3900",
   "metadata": {},
   "outputs": [],
   "source": []
  }
 ],
 "metadata": {
  "kernelspec": {
   "display_name": "Deno",
   "language": "typescript",
   "name": "deno"
  },
  "language_info": {
   "codemirror_mode": "typescript",
   "file_extension": ".ts",
   "mimetype": "text/x.typescript",
   "name": "typescript",
   "nbconvert_exporter": "script",
   "pygments_lexer": "typescript",
   "version": "5.7.3"
  }
 },
 "nbformat": 4,
 "nbformat_minor": 5
}
