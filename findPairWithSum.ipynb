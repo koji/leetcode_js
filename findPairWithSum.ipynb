{
 "cells": [
  {
   "cell_type": "code",
   "execution_count": null,
   "id": "312403cd-9242-48f6-b0a6-78f560c881f6",
   "metadata": {},
   "outputs": [],
   "source": [
    "// arr=[1,2,4,,6,8,8,9] target=12\n",
    "// pair [4,8]\n",
    "\n",
    "const findPairWithSum = (arr, target) => {\n",
    "    let left = 0\n",
    "    let right = arr.length-1\n",
    "\n",
    "    while(left < right) {\n",
    "        const sum = arr[left]+arr[right]\n",
    "\n",
    "        if(sum === target) {\n",
    "            return[arr[left], arr[right]]\n",
    "        }\n",
    "\n",
    "        if(sum < target) {\n",
    "            left++\n",
    "        }\n",
    "        if(\n",
    "    }\n",
    "}"
   ]
  }
 ],
 "metadata": {
  "kernelspec": {
   "display_name": "Deno",
   "language": "typescript",
   "name": "deno"
  },
  "language_info": {
   "codemirror_mode": "typescript",
   "file_extension": ".ts",
   "mimetype": "text/x.typescript",
   "name": "typescript",
   "nbconvert_exporter": "script",
   "pygments_lexer": "typescript",
   "version": "5.7.3"
  }
 },
 "nbformat": 4,
 "nbformat_minor": 5
}
