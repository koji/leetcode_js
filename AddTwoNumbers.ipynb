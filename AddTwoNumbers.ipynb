{
 "cells": [
  {
   "cell_type": "markdown",
   "id": "a6e5e71a-6c40-4f25-80e4-f9d227a4224e",
   "metadata": {},
   "source": [
    "```\n",
    "You are given two non-empty linked lists representing two non-negative integers. The digits are stored in reverse order, and each of their nodes contains a single digit. Add the two numbers and return the sum as a linked list.\n",
    "\n",
    "You may assume the two numbers do not contain any leading zero, except the number 0 itself.\n",
    "\n",
    " \n",
    "\n",
    "Example 1:\n",
    "\n",
    "\n",
    "Input: l1 = [2,4,3], l2 = [5,6,4]\n",
    "Output: [7,0,8]\n",
    "Explanation: 342 + 465 = 807.\n",
    "Example 2:\n",
    "\n",
    "Input: l1 = [0], l2 = [0]\n",
    "Output: [0]\n",
    "Example 3:\n",
    "\n",
    "Input: l1 = [9,9,9,9,9,9,9], l2 = [9,9,9,9]\n",
    "Output: [8,9,9,9,0,0,0,1]\n",
    " \n",
    "\n",
    "Constraints:\n",
    "\n",
    "The number of nodes in each linked list is in the range [1, 100].\n",
    "0 <= Node.val <= 9\n",
    "It is guaranteed that the list represents a number that does not have leading zeros.\n",
    "```"
   ]
  },
  {
   "cell_type": "code",
   "execution_count": 2,
   "id": "ac868766-bb97-44fa-95d8-9db8d9b75a7e",
   "metadata": {},
   "outputs": [],
   "source": [
    "const addTwoNumbers = (l1, l2) => {\n",
    "    let dummyHead = new ListNode(0)\n",
    "    let current = dummyHead\n",
    "    let carry = 0\n",
    "\n",
    "    while(l1 !==null || l2 !== null || carry !==0) {\n",
    "        let sum = carry\n",
    "\n",
    "        if(l1 !== null) {\n",
    "            sum += l1.val\n",
    "            l1 = l1.next\n",
    "        }\n",
    "\n",
    "        if(l2 !== null) {\n",
    "            sum += l2.val\n",
    "            l2 = l2.next\n",
    "        }\n",
    "\n",
    "        carry = Math.floor(sum/10)\n",
    "        current.next = new ListNode(sum%10)\n",
    "        current = current.next\n",
    "    }\n",
    "    return dummyHead.next\n",
    "}"
   ]
  },
  {
   "cell_type": "code",
   "execution_count": null,
   "id": "e63747e2-e9c5-43d9-a696-f5346bb34c7a",
   "metadata": {},
   "outputs": [],
   "source": []
  }
 ],
 "metadata": {
  "kernelspec": {
   "display_name": "Deno",
   "language": "typescript",
   "name": "deno"
  },
  "language_info": {
   "codemirror_mode": "typescript",
   "file_extension": ".ts",
   "mimetype": "text/x.typescript",
   "name": "typescript",
   "nbconvert_exporter": "script",
   "pygments_lexer": "typescript",
   "version": "5.7.3"
  }
 },
 "nbformat": 4,
 "nbformat_minor": 5
}
