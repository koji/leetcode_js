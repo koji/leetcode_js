{
 "cells": [
  {
   "cell_type": "markdown",
   "metadata": {},
   "source": [
    "```\n",
    "21. Merge Two Sorted Lists\n",
    "Solved\n",
    "Easy\n",
    "Topics\n",
    "Companies\n",
    "You are given the heads of two sorted linked lists list1 and list2.\n",
    "\n",
    "Merge the two lists into one sorted list. The list should be made by splicing together the nodes of the first two lists.\n",
    "\n",
    "Return the head of the merged linked list.\n",
    "\n",
    " \n",
    "\n",
    "Example 1:\n",
    "\n",
    "\n",
    "Input: list1 = [1,2,4], list2 = [1,3,4]\n",
    "Output: [1,1,2,3,4,4]\n",
    "Example 2:\n",
    "\n",
    "Input: list1 = [], list2 = []\n",
    "Output: []\n",
    "Example 3:\n",
    "\n",
    "Input: list1 = [], list2 = [0]\n",
    "Output: [0]\n",
    " \n",
    "\n",
    "Constraints:\n",
    "\n",
    "The number of nodes in both lists is in the range [0, 50].\n",
    "-100 <= Node.val <= 100\n",
    "Both list1 and list2 are sorted in non-decreasing order.\n",
    "```"
   ]
  },
  {
   "cell_type": "code",
   "execution_count": 1,
   "metadata": {},
   "outputs": [],
   "source": [
    "const mergeTwoLists = (list1, list2) => {\n",
    "  let list3 = new ListNode(-1)\n",
    "  let current = list3\n",
    "\n",
    "  while(list1 !== null && list2 !== null) {\n",
    "    if(list1.val < list2.val) {\n",
    "      current.next = list1\n",
    "      list1 = list1.next\n",
    "    } else {\n",
    "      current.next = list2\n",
    "      list2 = list2.next\n",
    "    }\n",
    "    current = current.next\n",
    "  }\n",
    "\n",
    "  if(list1 !== null) {\n",
    "    current.next = list1\n",
    "  }\n",
    "\n",
    "  if(list2 !== null) {\n",
    "    current.next = list2\n",
    "  }\n",
    "\n",
    "  return list3.next\n",
    "\n",
    "}"
   ]
  },
  {
   "cell_type": "code",
   "execution_count": 3,
   "metadata": {},
   "outputs": [
    {
     "name": "stdout",
     "output_type": "stream",
     "text": [
      "[ 1, 1, 2, 3, 4, 4 ]\n"
     ]
    }
   ],
   "source": [
    "function ListNode(val, next) {\n",
    "  this.val = (val===undefined ? 0 : val)\n",
    "  this.next = (next===undefined ? null : next)\n",
    "}\n",
    "\n",
    "// list1: 1 -> 2 -> 4\n",
    "const list1 = new ListNode(1, new ListNode(2, new ListNode(4)))\n",
    "// list2: 1 -> 3 -> 4\n",
    "const list2 = new ListNode(1, new ListNode(3, new ListNode(4)))\n",
    "\n",
    "const mergedList = mergeTwoLists(list1, list2)\n",
    "\n",
    "let result = []\n",
    "let temp = mergedList\n",
    "while (temp !== null) {\n",
    "  result.push(temp.val)\n",
    "  temp = temp.next\n",
    "}\n",
    "console.log(result)\n"
   ]
  },
  {
   "cell_type": "code",
   "execution_count": null,
   "metadata": {},
   "outputs": [],
   "source": []
  }
 ],
 "metadata": {
  "kernelspec": {
   "display_name": "Deno",
   "language": "typescript",
   "name": "deno"
  },
  "language_info": {
   "codemirror_mode": "typescript",
   "file_extension": ".ts",
   "mimetype": "text/x.typescript",
   "name": "typescript",
   "nbconvert_exporter": "script",
   "pygments_lexer": "typescript",
   "version": "5.7.3"
  }
 },
 "nbformat": 4,
 "nbformat_minor": 2
}
