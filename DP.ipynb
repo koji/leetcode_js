{
 "cells": [
  {
   "cell_type": "code",
   "execution_count": 2,
   "id": "6264bd03-840a-406c-8e6e-10204fcaae0b",
   "metadata": {},
   "outputs": [],
   "source": [
    "const countPaths = (m,n) => {\n",
    "    // base case\n",
    "    if(m === 1 || n ===1) return 1\n",
    "\n",
    "    // right or down\n",
    "    return countPaths(m-1, n) + countPaths(m, n-1)\n",
    "    \n",
    "}"
   ]
  },
  {
   "cell_type": "code",
   "execution_count": 3,
   "id": "2475eeec-8880-43b9-9655-56730634300b",
   "metadata": {},
   "outputs": [
    {
     "name": "stdout",
     "output_type": "stream",
     "text": [
      "\u001b[33m6\u001b[39m\n"
     ]
    }
   ],
   "source": [
    "console.log(countPaths(3,3))"
   ]
  },
  {
   "cell_type": "code",
   "execution_count": 7,
   "id": "43899f5a-a520-4c55-bac5-5b51a0079912",
   "metadata": {},
   "outputs": [],
   "source": [
    "// memo\n",
    "\n",
    "const countPathsMemo = (m,n, memo={}) => {\n",
    "    // base case\n",
    "    if(m === 1 || n ===1) return 1\n",
    "\n",
    "    const key = `${m},${n}`\n",
    "\n",
    "    if(memo[key]) return memo[key]\n",
    "\n",
    "    // right or down\n",
    "    memo[key] = countPathsMemo(m-1, n) + countPathsMemo(m, n-1)\n",
    "\n",
    "    return memo[key]\n",
    "    \n",
    "}"
   ]
  },
  {
   "cell_type": "code",
   "execution_count": 8,
   "id": "a11bb104-3175-4803-8f9a-5c2acc0de45e",
   "metadata": {},
   "outputs": [
    {
     "name": "stdout",
     "output_type": "stream",
     "text": [
      "\u001b[33m15\u001b[39m\n"
     ]
    }
   ],
   "source": [
    "console.log(countPathsMemo(5,3))"
   ]
  },
  {
   "cell_type": "code",
   "execution_count": null,
   "id": "cdcb6357-37b3-4083-b6f3-a7aaf26d583e",
   "metadata": {},
   "outputs": [],
   "source": []
  }
 ],
 "metadata": {
  "kernelspec": {
   "display_name": "Deno",
   "language": "typescript",
   "name": "deno"
  },
  "language_info": {
   "codemirror_mode": "typescript",
   "file_extension": ".ts",
   "mimetype": "text/x.typescript",
   "name": "typescript",
   "nbconvert_exporter": "script",
   "pygments_lexer": "typescript",
   "version": "5.7.3"
  }
 },
 "nbformat": 4,
 "nbformat_minor": 5
}
