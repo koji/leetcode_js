{
 "cells": [
  {
   "cell_type": "code",
   "execution_count": 1,
   "metadata": {},
   "outputs": [],
   "source": [
    "const binarySearch = (arr, target) => {\n",
    "  let low = 0\n",
    "  let high = arr.length-1\n",
    "\n",
    "  while( low <= high) {\n",
    "    const mid = Math.floor((low + high)/2)\n",
    "    if(arr[mid] === target) {\n",
    "      return mid\n",
    "    }\n",
    "    if(arr[mid] < target) {\n",
    "      low = mid + 1\n",
    "    }\n",
    "    if(arr[mid] > target) {\n",
    "      high = mid -1\n",
    "    }\n",
    "  }\n",
    "  return -1\n",
    "}"
   ]
  },
  {
   "cell_type": "code",
   "execution_count": 2,
   "metadata": {},
   "outputs": [
    {
     "name": "stdout",
     "output_type": "stream",
     "text": [
      "5\n",
      "-1\n"
     ]
    }
   ],
   "source": [
    "const sortedArray = [2, 5, 8, 12, 16, 23, 38, 56, 72, 91]\n",
    "const targetValue1 = 23\n",
    "const targetValue2 = 42\n",
    "\n",
    "const index1 = binarySearch(sortedArray, targetValue1)\n",
    "const index2 = binarySearch(sortedArray, targetValue2)\n",
    "\n",
    "console.log(index1)\n",
    "console.log(index2)"
   ]
  },
  {
   "cell_type": "code",
   "execution_count": null,
   "metadata": {},
   "outputs": [],
   "source": []
  }
 ],
 "metadata": {
  "kernelspec": {
   "display_name": "Deno",
   "language": "typescript",
   "name": "deno"
  },
  "language_info": {
   "codemirror_mode": "typescript",
   "file_extension": ".ts",
   "mimetype": "text/x.typescript",
   "name": "typescript",
   "nbconvert_exporter": "script",
   "pygments_lexer": "typescript",
   "version": "5.7.3"
  }
 },
 "nbformat": 4,
 "nbformat_minor": 2
}
