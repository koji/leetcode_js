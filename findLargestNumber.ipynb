{
 "cells": [
  {
   "cell_type": "code",
   "execution_count": 5,
   "id": "47caf522-3f69-49e7-9d10-8c0df4e37f0a",
   "metadata": {},
   "outputs": [],
   "source": [
    "const findLargestNumber = (arr) => {\n",
    "    // base case\n",
    "    if(arr.length === 1) return arr[0]\n",
    "\n",
    "    const mid = Math.floor(arr.length/2)\n",
    "    const left = arr.slice(0, mid)\n",
    "    const right = arr.slice(mid)\n",
    "\n",
    "    // recursive\n",
    "    const leftMax = findLargestNumber(left)\n",
    "    const rightMax = findLargestNumber(right)\n",
    "\n",
    "    return Math.max(leftMax, rightMax)\n",
    "\n",
    "}"
   ]
  },
  {
   "cell_type": "code",
   "execution_count": 6,
   "id": "5c22d298-c6df-4a83-aefa-117bece8a4dd",
   "metadata": {},
   "outputs": [
    {
     "name": "stdout",
     "output_type": "stream",
     "text": [
      "\u001b[33m202\u001b[39m\n"
     ]
    }
   ],
   "source": [
    "const arr = [20, 2, 10, 34, 4, 202, 1]\n",
    "console.log(findLargestNumber(arr))"
   ]
  },
  {
   "cell_type": "code",
   "execution_count": null,
   "id": "eb4efcf2-bd5d-4b42-b38e-571ce1b5ac18",
   "metadata": {},
   "outputs": [],
   "source": []
  }
 ],
 "metadata": {
  "kernelspec": {
   "display_name": "Deno",
   "language": "typescript",
   "name": "deno"
  },
  "language_info": {
   "codemirror_mode": "typescript",
   "file_extension": ".ts",
   "mimetype": "text/x.typescript",
   "name": "typescript",
   "nbconvert_exporter": "script",
   "pygments_lexer": "typescript",
   "version": "5.7.3"
  }
 },
 "nbformat": 4,
 "nbformat_minor": 5
}
